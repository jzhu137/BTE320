{
  "cells": [
    {
      "cell_type": "markdown",
      "metadata": {
        "id": "view-in-github",
        "colab_type": "text"
      },
      "source": [
        "<a href=\"https://colab.research.google.com/github/jzhu137/BTE320/blob/main/In_Class_Assignment.ipynb\" target=\"_parent\"><img src=\"https://colab.research.google.com/assets/colab-badge.svg\" alt=\"Open In Colab\"/></a>"
      ]
    },
    {
      "cell_type": "markdown",
      "source": [
        "JULIA ZHU"
      ],
      "metadata": {
        "id": "npA-CvIf4V05"
      }
    },
    {
      "cell_type": "markdown",
      "metadata": {
        "id": "KOdOXeq9wDMe"
      },
      "source": [
        "Cylinder Area:"
      ]
    },
    {
      "cell_type": "code",
      "execution_count": null,
      "metadata": {
        "colab": {
          "base_uri": "https://localhost:8080/"
        },
        "id": "tvJMF5XepCoD",
        "outputId": "43f90771-eb45-4e9a-be68-a9d80c3970be"
      },
      "outputs": [
        {
          "output_type": "stream",
          "name": "stdout",
          "text": [
            "Enter the radius: 8\n",
            "Enter the height: 7\n",
            "Surface Area: 753.6 sq.ft\n"
          ]
        }
      ],
      "source": [
        "R = float(input(\"Enter the radius: \"))\n",
        "H = float(input(\"Enter the height: \"))\n",
        "SA = 2*3.14*R**2 + 2*3.14*R*H\n",
        "print(f'Surface Area: {SA} sq.ft')"
      ]
    },
    {
      "cell_type": "markdown",
      "metadata": {
        "id": "_S9vp2vBwktF"
      },
      "source": [
        "Calculator:"
      ]
    },
    {
      "cell_type": "code",
      "execution_count": null,
      "metadata": {
        "colab": {
          "base_uri": "https://localhost:8080/"
        },
        "id": "tMN3WxbrpYg1",
        "outputId": "c51f7b5f-1956-4817-9b1c-209b97807fb4"
      },
      "outputs": [
        {
          "name": "stdout",
          "output_type": "stream",
          "text": [
            "Please enter a number: 6\n",
            "Please enter a symbol: O\n",
            "Please enter another number: 9\n",
            "N/A\n",
            "Total value: (6.0, 'O', 9.0)\n"
          ]
        }
      ],
      "source": [
        "x1 = float(input('Please enter a number: '))\n",
        "symbol = input('Please enter a symbol: ')\n",
        "x3 = float(input('Please enter another number: '))\n",
        "\n",
        "if symbol == '+':\n",
        "  print(x1 + x3)\n",
        "elif symbol == '-':\n",
        "  print(x1 - x3)\n",
        "elif symbol == '%':\n",
        "  print(x1%x3)\n",
        "elif symbol == '/':\n",
        "  print(x1/x3)\n",
        "elif symbol == '//':\n",
        "  print(x1//x3)\n",
        "elif symbol == '**':\n",
        "  print(x1**x3)\n",
        "elif symbol == '*':\n",
        "  print(x1*x3)\n",
        "else:\n",
        "  print('N/A')\n",
        "\n",
        "total = (x1, symbol, x3)\n",
        "print(f'Total value: {total}')\n"
      ]
    },
    {
      "cell_type": "markdown",
      "metadata": {
        "id": "ytnDJlJ6wG3W"
      },
      "source": [
        "Parking Garage:"
      ]
    },
    {
      "cell_type": "code",
      "execution_count": null,
      "metadata": {
        "colab": {
          "base_uri": "https://localhost:8080/"
        },
        "id": "kDTnGUrSwI9b",
        "outputId": "f2f84ae2-a5c5-45dd-d2d2-546a47b3f41b"
      },
      "outputs": [
        {
          "name": "stdout",
          "output_type": "stream",
          "text": [
            "Hour 1 fee: $10\n",
            "Hour 2 fee: $10.0\n",
            "Hour 3 fee: $12.5\n",
            "Hour 4 fee: $15.0\n",
            "Hour 5 fee: $17.5\n",
            "Hour 6 fee: $20.0\n",
            "Hour 7 fee: $20\n",
            "Hour 8 fee: $20\n"
          ]
        }
      ],
      "source": [
        "for numberHours in range (1,9):\n",
        "  fee = 5 + 2.5*numberHours\n",
        "  if fee < 10:\n",
        "    fee = 10\n",
        "  elif fee > 20:\n",
        "    fee = 20\n",
        "  print(f'Hour {numberHours} fee: ${fee}')"
      ]
    },
    {
      "cell_type": "markdown",
      "metadata": {
        "id": "6q69kw_Ow0k3"
      },
      "source": [
        "Movie Theater"
      ]
    },
    {
      "cell_type": "code",
      "execution_count": null,
      "metadata": {
        "colab": {
          "base_uri": "https://localhost:8080/"
        },
        "id": "pn8a0vM9wTNS",
        "outputId": "d3b52beb-545c-4368-fc3b-454535eb3cd3"
      },
      "outputs": [
        {
          "name": "stdout",
          "output_type": "stream",
          "text": [
            "0 0\n",
            "25 75\n",
            "50 90\n",
            "75 95\n",
            "100 100\n",
            "125 95\n",
            "150 90\n",
            "175 85\n",
            "200 80\n"
          ]
        }
      ],
      "source": [
        "for adMoney in range(0,201,25):\n",
        "  p = round(2*(adMoney**0.5))\n",
        "  print(adMoney, (p*10+200)-200- adMoney)"
      ]
    },
    {
      "cell_type": "code",
      "execution_count": null,
      "metadata": {
        "colab": {
          "base_uri": "https://localhost:8080/"
        },
        "id": "WQHV0UjBxKHo",
        "outputId": "0d0500b2-8469-48ba-d6fb-6c885a5c9dcc"
      },
      "outputs": [
        {
          "name": "stdout",
          "output_type": "stream",
          "text": [
            "0 0\n",
            "25 75\n",
            "50 90\n",
            "75 105\n",
            "100 100\n",
            "125 95\n",
            "150 90\n",
            "175 85\n",
            "200 80\n"
          ]
        }
      ],
      "source": [
        "for adMoney in range(0,201,25):\n",
        "  revenue = ( 20 + 2*round(adMoney**0.5))*10\n",
        "  costs = 200 + adMoney\n",
        "  profit = revenue - costs\n",
        "  print(adMoney, profit)\n"
      ]
    },
    {
      "cell_type": "markdown",
      "metadata": {
        "id": "pqFy55UzIQvz"
      },
      "source": [
        "Rock-Paper-Scissor"
      ]
    },
    {
      "cell_type": "code",
      "execution_count": null,
      "metadata": {
        "colab": {
          "background_save": true,
          "base_uri": "https://localhost:8080/"
        },
        "id": "W65i22GJM9hM",
        "outputId": "7ada1a8e-78dd-472f-c379-6d2b4ad1cd5d"
      },
      "outputs": [
        {
          "output_type": "stream",
          "name": "stdout",
          "text": [
            "Would you like to play (yes/no)? yes\n",
            "Player, choose rock/paper/scissors: rock\n",
            "Player choose Rock; Computer choose Paper\n",
            "Computer wins\n"
          ]
        }
      ],
      "source": [
        "import random\n",
        "x = input('Would you like to play (yes/no)? ')\n",
        "while x == 'yes':\n",
        "\n",
        "  z = input('Player, choose rock/paper/scissors: ').capitalize()\n",
        "  y = random.choice (['rock', 'paper', 'scissors']).capitalize()\n",
        "\n",
        "  print( f'Player choose {z}; Computer choose {y}')\n",
        "\n",
        "  if z == y:\n",
        "    print('Tie')\n",
        "  elif ( z == 'rock' and y == 'scissors') or (z == 'scissors' and y == 'paper') or (z == 'paper' and y == 'rock'):\n",
        "    print('Player wins')\n",
        "  else:\n",
        "    print('Computer wins')\n",
        "  x = input('Would you like to play again (yes/no)? ')\n",
        "\n",
        "print('Thank you!')"
      ]
    },
    {
      "cell_type": "markdown",
      "source": [
        "List sorter"
      ],
      "metadata": {
        "id": "h8a2c08sTWFv"
      }
    },
    {
      "cell_type": "code",
      "source": [
        "x = []\n",
        "num = float(input('Enter a number: '))\n",
        "while num != 0.0:\n",
        "  x.append(num) #puts number in the list\n",
        "  num = float(input('Enter a number: '))\n",
        "x.sort(reverse=True)\n",
        "print(x)"
      ],
      "metadata": {
        "colab": {
          "base_uri": "https://localhost:8080/"
        },
        "id": "W9nhQaeWPBh6",
        "outputId": "5aadb86f-52ac-40fd-e731-dd0d21affaaa"
      },
      "execution_count": null,
      "outputs": [
        {
          "output_type": "stream",
          "name": "stdout",
          "text": [
            "Enter a number: 5\n",
            "Enter a number: 6\n",
            "Enter a number: 7\n",
            "Enter a number: 0\n",
            "[7.0, 6.0, 5.0]\n"
          ]
        }
      ]
    },
    {
      "cell_type": "markdown",
      "source": [
        "or"
      ],
      "metadata": {
        "id": "DT60NQ9eTjW1"
      }
    },
    {
      "cell_type": "code",
      "source": [
        "x = []\n",
        "while True:\n",
        "  num = float(input('Enter a number: '))\n",
        "  if num == 0.0:\n",
        "    break\n",
        "  x.append(num) #puts number in the list\n",
        "x.sort(reverse=True)\n",
        "print(x)"
      ],
      "metadata": {
        "colab": {
          "base_uri": "https://localhost:8080/"
        },
        "id": "gwNWO2gqTaQB",
        "outputId": "7b39efd6-d16a-4603-86fc-133be879e9d6"
      },
      "execution_count": null,
      "outputs": [
        {
          "output_type": "stream",
          "name": "stdout",
          "text": [
            "Enter a number: 7\n",
            "Enter a number: 9\n",
            "Enter a number: 8\n",
            "Enter a number: 5\n",
            "Enter a number: 0\n",
            "[9.0, 8.0, 7.0, 5.0]\n"
          ]
        }
      ]
    },
    {
      "cell_type": "code",
      "source": [
        "months = {}\n",
        "names = [\"Jan\", \"Feb\", \"Mar\", \"Apr\",'May', \"Jun\", \"Jul\", \"Aug\", \"Sep\", \"Oct\", \"Nov\", \"Dec\"]\n",
        "numbers = [1,2,3,4,5,6,7,8,9,10,11,12]\n",
        "\n",
        "for x in range(len(names)):\n",
        "  months[names[x]] = numbers[x]\n",
        "\n",
        "print(months)"
      ],
      "metadata": {
        "colab": {
          "base_uri": "https://localhost:8080/"
        },
        "id": "am6DeebC4DI0",
        "outputId": "3093a142-18b0-492a-f75f-5b5ed1b1500a"
      },
      "execution_count": null,
      "outputs": [
        {
          "output_type": "stream",
          "name": "stdout",
          "text": [
            "{'Jan': 1, 'Feb': 2, 'Mar': 3, 'Apr': 4, 'May': 5, 'Jun': 6, 'Jul': 7, 'Aug': 8, 'Sep': 9, 'Oct': 10, 'Nov': 11, 'Dec': 12}\n"
          ]
        }
      ]
    },
    {
      "cell_type": "markdown",
      "source": [
        "or"
      ],
      "metadata": {
        "id": "pc9p5vFD4HWg"
      }
    },
    {
      "cell_type": "code",
      "source": [
        "months = {}\n",
        "names = [\"Jan\", \"Feb\", \"Mar\", \"Apr\", \"May\", \"Jun\", \"Jul\", \"Aug\", \"Sep\", \"Oct\", \"Nov\", \"Dec\"]\n",
        "numbers = [1,2,3,4,5,6,7,8,9,10,11,12]\n",
        "\n",
        "for num in numbers:\n",
        "  months[num] = names[num - 1]\n",
        "print(months)"
      ],
      "metadata": {
        "colab": {
          "base_uri": "https://localhost:8080/"
        },
        "id": "yO7KTRco4H79",
        "outputId": "e02ef9ed-8360-4180-df2d-e0d550ba1d0c"
      },
      "execution_count": null,
      "outputs": [
        {
          "output_type": "stream",
          "name": "stdout",
          "text": [
            "{1: 'Jan', 2: 'Feb', 3: 'Mar', 4: 'Apr', 5: 'May', 6: 'Jun', 7: 'Jul', 8: 'Aug', 9: 'Sep', 10: 'Oct', 11: 'Nov', 12: 'Dec'}\n"
          ]
        }
      ]
    },
    {
      "cell_type": "markdown",
      "source": [
        "Dictonary"
      ],
      "metadata": {
        "id": "QrtdBsGq7pCz"
      }
    },
    {
      "cell_type": "code",
      "source": [
        "num = {}\n",
        "while(len(num)) < 5:\n",
        "  key = input('Give a string: ')\n",
        "\n",
        "  if key not in num:\n",
        "    num[key] = 1\n",
        "  else:\n",
        "    num[key] += 1\n",
        "num\n"
      ],
      "metadata": {
        "colab": {
          "base_uri": "https://localhost:8080/"
        },
        "id": "waqz318J4ZGH",
        "outputId": "f9d9472c-0f06-4bfa-9f91-0ac18d8daef6"
      },
      "execution_count": null,
      "outputs": [
        {
          "name": "stdout",
          "output_type": "stream",
          "text": [
            "Give a string: a\n",
            "Give a string: b\n",
            "Give a string: a\n",
            "Give a string: c\n",
            "Give a string: c\n",
            "Give a string: a\n",
            "Give a string: d\n",
            "Give a string: d\n",
            "Give a string: e\n"
          ]
        },
        {
          "output_type": "execute_result",
          "data": {
            "text/plain": [
              "{'a': 3, 'b': 1, 'c': 2, 'd': 2, 'e': 1}"
            ]
          },
          "metadata": {},
          "execution_count": 24
        }
      ]
    },
    {
      "cell_type": "markdown",
      "source": [
        "Parking Garage calcFee function"
      ],
      "metadata": {
        "id": "6hDFc1F9mkF5"
      }
    },
    {
      "cell_type": "code",
      "source": [
        "def calcFee(hours):\n",
        "  fee = 5 + 2.5*hours\n",
        "  if fee < 10.0:\n",
        "    fee = 10.0\n",
        "  elif fee >= 20.0:\n",
        "    fee = 20.0\n",
        "  print(f'Fee: ${fee}')\n",
        "\n",
        "def main():\n",
        "  numHours = int(input('Enter number of hours: '))\n",
        "  calcFee(numHours)\n",
        "if __name__ == '__main__':\n",
        "  main()"
      ],
      "metadata": {
        "id": "95e98V_k4uFF",
        "colab": {
          "base_uri": "https://localhost:8080/"
        },
        "outputId": "1646e5b3-0a5f-4832-c448-aeaa38969271"
      },
      "execution_count": null,
      "outputs": [
        {
          "output_type": "stream",
          "name": "stdout",
          "text": [
            "Enter number of hours: 5\n",
            "Fee: $17.5\n"
          ]
        }
      ]
    },
    {
      "cell_type": "markdown",
      "source": [
        "Reverse function"
      ],
      "metadata": {
        "id": "cCIr8vFyPGPt"
      }
    },
    {
      "cell_type": "code",
      "source": [
        "def reverse(s):\n",
        "  if len(s) <= 1:\n",
        "    return s\n",
        "  else:\n",
        "    return s[-1]+ reverse(s[:-1])\n",
        "reverse('Hello')"
      ],
      "metadata": {
        "colab": {
          "base_uri": "https://localhost:8080/",
          "height": 35
        },
        "id": "dJM-h0EW4LXJ",
        "outputId": "01b21e76-4ddd-4373-ecc7-52fbf3a87ae7"
      },
      "execution_count": null,
      "outputs": [
        {
          "output_type": "execute_result",
          "data": {
            "text/plain": [
              "'olleH'"
            ],
            "application/vnd.google.colaboratory.intrinsic+json": {
              "type": "string"
            }
          },
          "metadata": {},
          "execution_count": 3
        }
      ]
    },
    {
      "cell_type": "markdown",
      "source": [
        "Error text"
      ],
      "metadata": {
        "id": "Mn53tRY6R4fo"
      }
    },
    {
      "cell_type": "code",
      "source": [
        "def calcFee(hours):\n",
        "  fee = 5 + 2.5*hours\n",
        "  if fee < 10.0:\n",
        "    fee = 10.0\n",
        "  elif fee >= 20.0:\n",
        "    fee = 20.0\n",
        "  print(f'Fee: ${fee}')\n",
        "\n",
        "def main():\n",
        "  try:\n",
        "    numHours = int(input('Enter number of hours: '))\n",
        "    calcFee(numHours)\n",
        "  except ValueError:\n",
        "    print('Cannot cast to int().')\n",
        "  except:\n",
        "    print('Unknown error.')\n",
        "\n",
        "if __name__ == '__main__':\n",
        "  main()"
      ],
      "metadata": {
        "colab": {
          "base_uri": "https://localhost:8080/"
        },
        "id": "dEiw8jlvR3rv",
        "outputId": "7bdf5a18-5eca-41e0-ecc9-53ee9d403404"
      },
      "execution_count": null,
      "outputs": [
        {
          "output_type": "stream",
          "name": "stdout",
          "text": [
            "Enter number of hours: 5.4\n",
            "Cannot cast to int().\n"
          ]
        }
      ]
    },
    {
      "cell_type": "code",
      "source": [
        "\n",
        "def getValues(n):\n",
        "    L = []\n",
        "    for i in range(n):\n",
        "      value = float(input(\"Enter weight: \"))\n",
        "      L.append(value)\n",
        "    return L\n",
        "\n",
        "def calcAverage(alist):\n",
        "  try:\n",
        "    print (f'The average weight is {sum(alist[2:])/len(alist[2:])} lbs')\n",
        "  except ZeroDivisionError:\n",
        "    print('List alist is empty')\n",
        "if __name__ == \"__main__\":\n",
        "  try:\n",
        "    n = int(input(\"Enter the number of weights: \"))\n",
        "    alist = getValues(n)\n",
        "    calcAverage(alist)\n",
        "  except ValueError:\n",
        "    print('Cannot cast to int().')\n",
        "  except:\n",
        "    print('Unknown error.')"
      ],
      "metadata": {
        "colab": {
          "base_uri": "https://localhost:8080/"
        },
        "id": "FoZQ2__eWMQS",
        "outputId": "e76f2308-5c44-4da1-a8a8-b9a0fa8d128e"
      },
      "execution_count": null,
      "outputs": [
        {
          "output_type": "stream",
          "name": "stdout",
          "text": [
            "Enter the number of weights: \n",
            "Cannot cast to int().\n"
          ]
        }
      ]
    },
    {
      "cell_type": "code",
      "source": [
        "def f(x,y):\n",
        "  try:\n",
        "    z = x + y\n",
        "    w = x/y\n",
        "    print(z,w)\n",
        "  except ZeroDivisionError:\n",
        "    print('Division by zero not allowed')\n",
        "  except TypeError:\n",
        "    print('Incompatible types')\n",
        "  else:\n",
        "    print('All operations complete.')\n",
        "\n",
        "f(2,0)"
      ],
      "metadata": {
        "colab": {
          "base_uri": "https://localhost:8080/"
        },
        "id": "m4oXyzTbZtwy",
        "outputId": "bf80b6ff-8a36-487d-b680-eeca859012fb"
      },
      "execution_count": null,
      "outputs": [
        {
          "output_type": "stream",
          "name": "stdout",
          "text": [
            "Division by zero not allowed\n"
          ]
        }
      ]
    },
    {
      "cell_type": "markdown",
      "source": [
        "Greeting Class"
      ],
      "metadata": {
        "id": "vS576P9kYGT3"
      }
    },
    {
      "cell_type": "code",
      "source": [
        "class Greeting():\n",
        "  def __init__(self,first,last):\n",
        "    self.first = first\n",
        "    self.last = last\n",
        "\n",
        "  def display(self, formal=False):\n",
        "    if formal == True:\n",
        "      print(f'Hello {self.first} {self.last}')\n",
        "    else:\n",
        "      print(f'Hi {self.first}')\n",
        "  def __str__(self):\n",
        "    return f'{self.first} {self.last}'\n",
        "  def __repr__(self):\n",
        "    return f'{self.first} {self.last}'\n",
        "greeting = Greeting(\"Donald\", \"Becker\")\n",
        "print(greeting)\n",
        "greeting.display()\n"
      ],
      "metadata": {
        "colab": {
          "base_uri": "https://localhost:8080/"
        },
        "id": "-29W5dUsYIYa",
        "outputId": "31cc0444-2132-4a5f-e057-d9b5b2956d29"
      },
      "execution_count": null,
      "outputs": [
        {
          "output_type": "stream",
          "name": "stdout",
          "text": [
            "Donald Becker\n",
            "Hi Donald\n"
          ]
        }
      ]
    },
    {
      "cell_type": "markdown",
      "source": [
        "Student Class"
      ],
      "metadata": {
        "id": "4iZZC9AZchCa"
      }
    },
    {
      "cell_type": "code",
      "source": [
        "class Student:\n",
        "  def __init__(self,name,number,cources):\n",
        "    self.name=name\n",
        "    self.number=number\n",
        "    self.cources=[]\n",
        "  def enroll(self,course):\n",
        "    if course in self.cources:\n",
        "      print(\"You have lready enrolled in \",course)\n",
        "    else:\n",
        "      self.cources.append(course)\n",
        "  def get_cources(self):\n",
        "    return self.cources\n",
        "\n",
        "\n",
        "s1=Student(\"James\",666, \"BTE320\")\n",
        "s1.name,s1.number\n",
        "\n",
        "\n",
        "\n",
        "s1.enroll(\"BTE320\")\n",
        "s1.enroll(\"BTE400\")\n",
        "s1.enroll(\"BTE320\")\n",
        "s1.get_cources()"
      ],
      "metadata": {
        "colab": {
          "base_uri": "https://localhost:8080/"
        },
        "id": "NCJS-S5RcIZ2",
        "outputId": "e18e3eab-dbc2-40ee-a537-80a50b5fea19"
      },
      "execution_count": null,
      "outputs": [
        {
          "output_type": "stream",
          "name": "stdout",
          "text": [
            "You have lready enrolled in  BTE320\n"
          ]
        },
        {
          "output_type": "execute_result",
          "data": {
            "text/plain": [
              "['BTE320', 'BTE400']"
            ]
          },
          "metadata": {},
          "execution_count": 1
        }
      ]
    },
    {
      "cell_type": "markdown",
      "source": [
        "Point Class"
      ],
      "metadata": {
        "id": "qsMBHNg8clCu"
      }
    },
    {
      "cell_type": "code",
      "source": [
        "import math\n",
        "\n",
        "class Point:\n",
        "  def __init__(self,x,y):\n",
        "    self.x = x\n",
        "    self.y = y\n",
        "  def distance(self, other):\n",
        "    return math.sqrt((self.x - other.x) **2 + (self.y - other.y) **2)\n"
      ],
      "metadata": {
        "id": "zaqTmc7ucW_L"
      },
      "execution_count": 5,
      "outputs": []
    },
    {
      "cell_type": "code",
      "source": [
        "class Rectangle:\n",
        "  def __init__(self):\n",
        "    self.c1 = Point(0,0)\n",
        "    self.c2 = Point(0,2)\n",
        "    self.c3 = Point(2,0)\n",
        "    self.c4 = Point(2,2)\n",
        "\n",
        "  def calculate_width(self):\n",
        "    return self.c1.distance(self.c2)\n",
        "\n",
        "  def calculate_length(self):\n",
        "    return self.c1.distance(self.c3)\n",
        "\n",
        "  def area(self):\n",
        "    return f'Area = {self.calculate_width() * self.calculate_length()} sq. ft'\n",
        "square = Rectangle()\n",
        "square.area()"
      ],
      "metadata": {
        "id": "ZfyBvrrZfHyN",
        "colab": {
          "base_uri": "https://localhost:8080/",
          "height": 35
        },
        "outputId": "a002c1ba-db9b-47ee-84f7-5a3aee75e104"
      },
      "execution_count": 7,
      "outputs": [
        {
          "output_type": "execute_result",
          "data": {
            "text/plain": [
              "'Area = 4.0 sq. ft'"
            ],
            "application/vnd.google.colaboratory.intrinsic+json": {
              "type": "string"
            }
          },
          "metadata": {},
          "execution_count": 7
        }
      ]
    }
  ],
  "metadata": {
    "colab": {
      "provenance": [],
      "authorship_tag": "ABX9TyNOWBSskKBhmN5So6p5O85T",
      "include_colab_link": true
    },
    "kernelspec": {
      "display_name": "Python 3",
      "name": "python3"
    },
    "language_info": {
      "name": "python"
    }
  },
  "nbformat": 4,
  "nbformat_minor": 0
}