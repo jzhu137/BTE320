{
  "cells": [
    {
      "cell_type": "markdown",
      "metadata": {
        "id": "view-in-github",
        "colab_type": "text"
      },
      "source": [
        "<a href=\"https://colab.research.google.com/github/jzhu137/BTE320/blob/main/In_Class_Assignment.ipynb\" target=\"_parent\"><img src=\"https://colab.research.google.com/assets/colab-badge.svg\" alt=\"Open In Colab\"/></a>"
      ]
    },
    {
      "cell_type": "markdown",
      "source": [
        "JULIA ZHU"
      ],
      "metadata": {
        "id": "npA-CvIf4V05"
      }
    },
    {
      "cell_type": "markdown",
      "metadata": {
        "id": "KOdOXeq9wDMe"
      },
      "source": [
        "Cylinder Area:"
      ]
    },
    {
      "cell_type": "code",
      "execution_count": null,
      "metadata": {
        "colab": {
          "base_uri": "https://localhost:8080/"
        },
        "id": "tvJMF5XepCoD",
        "outputId": "43f90771-eb45-4e9a-be68-a9d80c3970be"
      },
      "outputs": [
        {
          "output_type": "stream",
          "name": "stdout",
          "text": [
            "Enter the radius: 8\n",
            "Enter the height: 7\n",
            "Surface Area: 753.6 sq.ft\n"
          ]
        }
      ],
      "source": [
        "R = float(input(\"Enter the radius: \"))\n",
        "H = float(input(\"Enter the height: \"))\n",
        "SA = 2*3.14*R**2 + 2*3.14*R*H\n",
        "print(f'Surface Area: {SA} sq.ft')"
      ]
    },
    {
      "cell_type": "markdown",
      "metadata": {
        "id": "_S9vp2vBwktF"
      },
      "source": [
        "Calculator:"
      ]
    },
    {
      "cell_type": "code",
      "execution_count": null,
      "metadata": {
        "colab": {
          "base_uri": "https://localhost:8080/"
        },
        "id": "tMN3WxbrpYg1",
        "outputId": "c51f7b5f-1956-4817-9b1c-209b97807fb4"
      },
      "outputs": [
        {
          "name": "stdout",
          "output_type": "stream",
          "text": [
            "Please enter a number: 6\n",
            "Please enter a symbol: O\n",
            "Please enter another number: 9\n",
            "N/A\n",
            "Total value: (6.0, 'O', 9.0)\n"
          ]
        }
      ],
      "source": [
        "x1 = float(input('Please enter a number: '))\n",
        "symbol = input('Please enter a symbol: ')\n",
        "x3 = float(input('Please enter another number: '))\n",
        "\n",
        "if symbol == '+':\n",
        "  print(x1 + x3)\n",
        "elif symbol == '-':\n",
        "  print(x1 - x3)\n",
        "elif symbol == '%':\n",
        "  print(x1%x3)\n",
        "elif symbol == '/':\n",
        "  print(x1/x3)\n",
        "elif symbol == '//':\n",
        "  print(x1//x3)\n",
        "elif symbol == '**':\n",
        "  print(x1**x3)\n",
        "elif symbol == '*':\n",
        "  print(x1*x3)\n",
        "else:\n",
        "  print('N/A')\n",
        "\n",
        "total = (x1, symbol, x3)\n",
        "print(f'Total value: {total}')\n"
      ]
    },
    {
      "cell_type": "markdown",
      "metadata": {
        "id": "ytnDJlJ6wG3W"
      },
      "source": [
        "Parking Garage:"
      ]
    },
    {
      "cell_type": "code",
      "execution_count": null,
      "metadata": {
        "colab": {
          "base_uri": "https://localhost:8080/"
        },
        "id": "kDTnGUrSwI9b",
        "outputId": "f2f84ae2-a5c5-45dd-d2d2-546a47b3f41b"
      },
      "outputs": [
        {
          "name": "stdout",
          "output_type": "stream",
          "text": [
            "Hour 1 fee: $10\n",
            "Hour 2 fee: $10.0\n",
            "Hour 3 fee: $12.5\n",
            "Hour 4 fee: $15.0\n",
            "Hour 5 fee: $17.5\n",
            "Hour 6 fee: $20.0\n",
            "Hour 7 fee: $20\n",
            "Hour 8 fee: $20\n"
          ]
        }
      ],
      "source": [
        "for numberHours in range (1,9):\n",
        "  fee = 5 + 2.5*numberHours\n",
        "  if fee < 10:\n",
        "    fee = 10\n",
        "  elif fee > 20:\n",
        "    fee = 20\n",
        "  print(f'Hour {numberHours} fee: ${fee}')"
      ]
    },
    {
      "cell_type": "markdown",
      "metadata": {
        "id": "6q69kw_Ow0k3"
      },
      "source": [
        "Movie Theater"
      ]
    },
    {
      "cell_type": "code",
      "execution_count": null,
      "metadata": {
        "colab": {
          "base_uri": "https://localhost:8080/"
        },
        "id": "pn8a0vM9wTNS",
        "outputId": "d3b52beb-545c-4368-fc3b-454535eb3cd3"
      },
      "outputs": [
        {
          "name": "stdout",
          "output_type": "stream",
          "text": [
            "0 0\n",
            "25 75\n",
            "50 90\n",
            "75 95\n",
            "100 100\n",
            "125 95\n",
            "150 90\n",
            "175 85\n",
            "200 80\n"
          ]
        }
      ],
      "source": [
        "for adMoney in range(0,201,25):\n",
        "  p = round(2*(adMoney**0.5))\n",
        "  print(adMoney, (p*10+200)-200- adMoney)"
      ]
    },
    {
      "cell_type": "code",
      "execution_count": null,
      "metadata": {
        "colab": {
          "base_uri": "https://localhost:8080/"
        },
        "id": "WQHV0UjBxKHo",
        "outputId": "0d0500b2-8469-48ba-d6fb-6c885a5c9dcc"
      },
      "outputs": [
        {
          "name": "stdout",
          "output_type": "stream",
          "text": [
            "0 0\n",
            "25 75\n",
            "50 90\n",
            "75 105\n",
            "100 100\n",
            "125 95\n",
            "150 90\n",
            "175 85\n",
            "200 80\n"
          ]
        }
      ],
      "source": [
        "for adMoney in range(0,201,25):\n",
        "  revenue = ( 20 + 2*round(adMoney**0.5))*10\n",
        "  costs = 200 + adMoney\n",
        "  profit = revenue - costs\n",
        "  print(adMoney, profit)\n"
      ]
    },
    {
      "cell_type": "markdown",
      "metadata": {
        "id": "pqFy55UzIQvz"
      },
      "source": [
        "Rock-Paper-Scissor"
      ]
    },
    {
      "cell_type": "code",
      "execution_count": null,
      "metadata": {
        "colab": {
          "background_save": true,
          "base_uri": "https://localhost:8080/"
        },
        "id": "W65i22GJM9hM",
        "outputId": "7ada1a8e-78dd-472f-c379-6d2b4ad1cd5d"
      },
      "outputs": [
        {
          "output_type": "stream",
          "name": "stdout",
          "text": [
            "Would you like to play (yes/no)? yes\n",
            "Player, choose rock/paper/scissors: rock\n",
            "Player choose Rock; Computer choose Paper\n",
            "Computer wins\n"
          ]
        }
      ],
      "source": [
        "import random\n",
        "x = input('Would you like to play (yes/no)? ')\n",
        "while x == 'yes':\n",
        "\n",
        "  z = input('Player, choose rock/paper/scissors: ').capitalize()\n",
        "  y = random.choice (['rock', 'paper', 'scissors']).capitalize()\n",
        "\n",
        "  print( f'Player choose {z}; Computer choose {y}')\n",
        "\n",
        "  if z == y:\n",
        "    print('Tie')\n",
        "  elif ( z == 'rock' and y == 'scissors') or (z == 'scissors' and y == 'paper') or (z == 'paper' and y == 'rock'):\n",
        "    print('Player wins')\n",
        "  else:\n",
        "    print('Computer wins')\n",
        "  x = input('Would you like to play again (yes/no)? ')\n",
        "\n",
        "print('Thank you!')"
      ]
    },
    {
      "cell_type": "markdown",
      "source": [
        "List sorter"
      ],
      "metadata": {
        "id": "h8a2c08sTWFv"
      }
    },
    {
      "cell_type": "code",
      "source": [
        "x = []\n",
        "num = float(input('Enter a number: '))\n",
        "while num != 0.0:\n",
        "  x.append(num) #puts number in the list\n",
        "  num = float(input('Enter a number: '))\n",
        "x.sort(reverse=True)\n",
        "print(x)"
      ],
      "metadata": {
        "colab": {
          "base_uri": "https://localhost:8080/"
        },
        "id": "W9nhQaeWPBh6",
        "outputId": "5aadb86f-52ac-40fd-e731-dd0d21affaaa"
      },
      "execution_count": null,
      "outputs": [
        {
          "output_type": "stream",
          "name": "stdout",
          "text": [
            "Enter a number: 5\n",
            "Enter a number: 6\n",
            "Enter a number: 7\n",
            "Enter a number: 0\n",
            "[7.0, 6.0, 5.0]\n"
          ]
        }
      ]
    },
    {
      "cell_type": "markdown",
      "source": [
        "or"
      ],
      "metadata": {
        "id": "DT60NQ9eTjW1"
      }
    },
    {
      "cell_type": "code",
      "source": [
        "x = []\n",
        "while True:\n",
        "  num = float(input('Enter a number: '))\n",
        "  if num == 0.0:\n",
        "    break\n",
        "  x.append(num) #puts number in the list\n",
        "x.sort(reverse=True)\n",
        "print(x)"
      ],
      "metadata": {
        "colab": {
          "base_uri": "https://localhost:8080/"
        },
        "id": "gwNWO2gqTaQB",
        "outputId": "7b39efd6-d16a-4603-86fc-133be879e9d6"
      },
      "execution_count": null,
      "outputs": [
        {
          "output_type": "stream",
          "name": "stdout",
          "text": [
            "Enter a number: 7\n",
            "Enter a number: 9\n",
            "Enter a number: 8\n",
            "Enter a number: 5\n",
            "Enter a number: 0\n",
            "[9.0, 8.0, 7.0, 5.0]\n"
          ]
        }
      ]
    },
    {
      "cell_type": "code",
      "source": [
        "months = {}\n",
        "names = [\"Jan\", \"Feb\", \"Mar\", \"Apr\",'May', \"Jun\", \"Jul\", \"Aug\", \"Sep\", \"Oct\", \"Nov\", \"Dec\"]\n",
        "numbers = [1,2,3,4,5,6,7,8,9,10,11,12]\n",
        "\n",
        "for x in range(len(names)):\n",
        "  months[names[x]] = numbers[x]\n",
        "\n",
        "print(months)"
      ],
      "metadata": {
        "colab": {
          "base_uri": "https://localhost:8080/"
        },
        "id": "am6DeebC4DI0",
        "outputId": "3093a142-18b0-492a-f75f-5b5ed1b1500a"
      },
      "execution_count": null,
      "outputs": [
        {
          "output_type": "stream",
          "name": "stdout",
          "text": [
            "{'Jan': 1, 'Feb': 2, 'Mar': 3, 'Apr': 4, 'May': 5, 'Jun': 6, 'Jul': 7, 'Aug': 8, 'Sep': 9, 'Oct': 10, 'Nov': 11, 'Dec': 12}\n"
          ]
        }
      ]
    },
    {
      "cell_type": "markdown",
      "source": [
        "or"
      ],
      "metadata": {
        "id": "pc9p5vFD4HWg"
      }
    },
    {
      "cell_type": "code",
      "source": [
        "months = {}\n",
        "names = [\"Jan\", \"Feb\", \"Mar\", \"Apr\", \"May\", \"Jun\", \"Jul\", \"Aug\", \"Sep\", \"Oct\", \"Nov\", \"Dec\"]\n",
        "numbers = [1,2,3,4,5,6,7,8,9,10,11,12]\n",
        "\n",
        "for num in numbers:\n",
        "  months[num] = names[num - 1]\n",
        "print(months)"
      ],
      "metadata": {
        "colab": {
          "base_uri": "https://localhost:8080/"
        },
        "id": "yO7KTRco4H79",
        "outputId": "e02ef9ed-8360-4180-df2d-e0d550ba1d0c"
      },
      "execution_count": null,
      "outputs": [
        {
          "output_type": "stream",
          "name": "stdout",
          "text": [
            "{1: 'Jan', 2: 'Feb', 3: 'Mar', 4: 'Apr', 5: 'May', 6: 'Jun', 7: 'Jul', 8: 'Aug', 9: 'Sep', 10: 'Oct', 11: 'Nov', 12: 'Dec'}\n"
          ]
        }
      ]
    },
    {
      "cell_type": "markdown",
      "source": [
        "Dictonary"
      ],
      "metadata": {
        "id": "QrtdBsGq7pCz"
      }
    },
    {
      "cell_type": "code",
      "source": [
        "num = {}\n",
        "while(len(num)) < 5:\n",
        "  key = input('Give a string: ')\n",
        "\n",
        "  if key not in num:\n",
        "    num[key] = 1\n",
        "  else:\n",
        "    num[key] += 1\n",
        "num\n"
      ],
      "metadata": {
        "colab": {
          "base_uri": "https://localhost:8080/"
        },
        "id": "waqz318J4ZGH",
        "outputId": "f9d9472c-0f06-4bfa-9f91-0ac18d8daef6"
      },
      "execution_count": null,
      "outputs": [
        {
          "name": "stdout",
          "output_type": "stream",
          "text": [
            "Give a string: a\n",
            "Give a string: b\n",
            "Give a string: a\n",
            "Give a string: c\n",
            "Give a string: c\n",
            "Give a string: a\n",
            "Give a string: d\n",
            "Give a string: d\n",
            "Give a string: e\n"
          ]
        },
        {
          "output_type": "execute_result",
          "data": {
            "text/plain": [
              "{'a': 3, 'b': 1, 'c': 2, 'd': 2, 'e': 1}"
            ]
          },
          "metadata": {},
          "execution_count": 24
        }
      ]
    },
    {
      "cell_type": "markdown",
      "source": [
        "Parking Garage calcFee function"
      ],
      "metadata": {
        "id": "6hDFc1F9mkF5"
      }
    },
    {
      "cell_type": "code",
      "source": [
        "def calcFee(hours):\n",
        "  fee = 5 + 2.5*hours\n",
        "  if fee < 10.0:\n",
        "    fee = 10.0\n",
        "  elif fee >= 20.0:\n",
        "    fee = 20.0\n",
        "  print(f'Fee: ${fee}')\n",
        "\n",
        "def main():\n",
        "  numHours = int(input('Enter number of hours: '))\n",
        "  calcFee(numHours)\n",
        "\n",
        "main()"
      ],
      "metadata": {
        "id": "95e98V_k4uFF",
        "colab": {
          "base_uri": "https://localhost:8080/"
        },
        "outputId": "1036d83c-245e-472e-f69c-f5281a59b6d7"
      },
      "execution_count": null,
      "outputs": [
        {
          "output_type": "stream",
          "name": "stdout",
          "text": [
            "Program starting...\n",
            "Enter number of hours: 5\n",
            "Fee: $17.5\n"
          ]
        }
      ]
    },
    {
      "cell_type": "markdown",
      "source": [
        "Reverse function"
      ],
      "metadata": {
        "id": "cCIr8vFyPGPt"
      }
    },
    {
      "cell_type": "code",
      "source": [
        "def reverse(s):\n",
        "  if len(s) <= 1:\n",
        "    return s\n",
        "  else:\n",
        "    return s[-1]+ reverse(s[:-1])\n",
        "reverse('Hello')"
      ],
      "metadata": {
        "colab": {
          "base_uri": "https://localhost:8080/",
          "height": 35
        },
        "id": "dJM-h0EW4LXJ",
        "outputId": "01b21e76-4ddd-4373-ecc7-52fbf3a87ae7"
      },
      "execution_count": 3,
      "outputs": [
        {
          "output_type": "execute_result",
          "data": {
            "text/plain": [
              "'olleH'"
            ],
            "application/vnd.google.colaboratory.intrinsic+json": {
              "type": "string"
            }
          },
          "metadata": {},
          "execution_count": 3
        }
      ]
    }
  ],
  "metadata": {
    "colab": {
      "provenance": [],
      "authorship_tag": "ABX9TyNeTlK3pue4XIx0BNPh7vbE",
      "include_colab_link": true
    },
    "kernelspec": {
      "display_name": "Python 3",
      "name": "python3"
    },
    "language_info": {
      "name": "python"
    }
  },
  "nbformat": 4,
  "nbformat_minor": 0
}